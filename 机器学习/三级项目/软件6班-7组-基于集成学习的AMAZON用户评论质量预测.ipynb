{
 "cells": [
  {
   "cell_type": "markdown",
   "metadata": {
    "collapsed": false
   },
   "source": [
    "## 比赛标题\n",
    "Exp6: 基于集成学习的 Amazon 用户评论质量预测"
   ]
  },
  {
   "cell_type": "markdown",
   "metadata": {
    "collapsed": false
   },
   "source": [
    "## 比赛描述\n",
    "\n",
    "本案例中我们将基于集成学习的方法对 Amazon 现实场景中的评论质量进行预测。需要大家完成两种集成学习算法的实现（Bagging、AdaBoost.M1），其中基分类器使用 SVM 和决策树两种，对结果进行对比分析。\n"
   ]
  },
  {
   "cell_type": "markdown",
   "metadata": {
    "collapsed": false
   },
   "source": [
    "## 比赛介绍\n",
    "\n",
    "### 案例背景\n",
    "\n",
    "随着电商平台的兴起，以及疫情的持续影响，线上购物在我们的日常生活中扮演着越来越重要的角色。在进行线上商品挑选时，评论往往是我们十分关注的一个方面。然而目前电商网站的评论质量参差不齐，甚至有水军刷好评或者恶意差评的情况出现，严重影响了顾客的购物体验。因此，对于评论质量的预测成为电商平台越来越关注的话题，如果能自动对评论质量进行评估，就能根据预测结果避免展现低质量的评论。本案例中我们将基于集成学习的方法对 Amazon 现实场景中的评论质量进行预测。\n",
    "\n",
    "### 任务\n",
    "\n",
    "本案例中需要完成两种集成学习算法的实现（Bagging、AdaBoost.M1），其中基分类器要求使用 SVM 和决策树两种，因此，一共需要对比四组结果（[AUC](https://scikit-learn.org/stable/modules/model_evaluation.html#roc-metrics) 作为评价指标）：\n",
    "\n",
    "* Bagging + SVM\n",
    "* Bagging + 决策树\n",
    "* AdaBoost.M1 + SVM\n",
    "* AdaBoost.M1 + 决策树\n",
    "\n",
    "注意集成学习的核心算法需要**手动进行实现**，基分类器可以调库。\n",
    "\n",
    "### 基本要求\n",
    "\n",
    "* 根据数据格式设计特征的表示\n",
    "* 汇报不同组合下得到的 AUC\n",
    "* 结合不同集成学习算法的特点分析结果之间的差异\n",
    "* （使用 sklearn 等第三方库的集成学习算法会酌情扣分）\n",
    "\n",
    "### 扩展要求\n",
    "\n",
    "* 尝试其他基分类器（如 k-NN、朴素贝叶斯）\n",
    "* 分析不同特征的影响\n",
    "* 分析集成学习算法参数的影响\n",
    "* 尝试各种方法提升排行榜上预测性能\n",
    "\n",
    "\n",
    "\n",
    "\n",
    "## 赛题说明\n",
    "### 数据描述\n",
    "\n",
    "本次数据来源于 Amazon 电商平台，包含超过 50,000 条用户在购买商品后留下的评论，各列的含义如下：\n",
    "\n",
    "* reviewerID：用户 ID\n",
    "* asin：商品 ID\n",
    "* reviewText：英文评论文本\n",
    "* overall：用户对商品的打分（1-5）\n",
    "* votes_up：认为评论有用的点赞数（只在训练集出现）\n",
    "* votes_all：该评论得到的总评价数（只在训练集出现）\n",
    "* label：评论质量的 label，1 表示高质量，0 表示低质量（只在训练集出现）\n",
    "\n",
    "评论质量的 label 来自于其他用户对评论的 votes，votes_up/votes_all ≥ 0.9 的作为高质量评论。此外测试集包含一个额外的列`Id`，标识了每一个测试的样例。\n",
    "\n",
    "### 文件说明\n",
    "\n",
    "* train.csv：训练集\n",
    "* test.csv：测试集，用户和商品保证在训练集中出现过，没有关于 votes 和 label 的列\n",
    "\n",
    "文件使用 \\t 分隔，可以使用 pandas 进行读取：\n",
    "\n",
    "```python\n",
    "import pandas as pd\n",
    "train_df = pd.read_csv('train.csv', sep='\\t')\n",
    "```\n",
    "\n",
    "### 提交格式\n",
    "\n",
    "提交文件需要对测试集中每一条评论给出预测为高质量的**概率**，每行包括一个`Id`（和测试集对应）以及预测的概率`Predicted`（0-1的浮点数），用逗号分隔。示例提交格式如下：\n",
    "\n",
    "```\n",
    "Id,Predicted\n",
    "0,0.9\n",
    "1,0.45\n",
    "2,0.78\n",
    "...\n",
    "```\n",
    "\n",
    "提交文件需要命名为`result.csv`"
   ]
  },
  {
   "cell_type": "markdown",
   "metadata": {
    "collapsed": false
   },
   "source": [
    "去掉停用词\n",
    "ctr挖掘特征\n",
    "fasttext\n",
    "wordtovec\n",
    "模型：集成学习、lgb，xgb\n"
   ]
  },
  {
   "cell_type": "code",
   "execution_count": 1,
   "metadata": {
    "collapsed": false
   },
   "outputs": [
    {
     "name": "stdout",
     "output_type": "stream",
     "text": [
      "(57039, 7)\n",
      "(57039, 1)\n"
     ]
    }
   ],
   "source": [
    "import numpy as np\r\n",
    "import pandas as pd\r\n",
    "import matplotlib.pyplot as plt \r\n",
    "import warnings\r\n",
    "warnings.filterwarnings(\"ignore\")\r\n",
    "train_data=pd.read_csv('train.csv',sep='\\t')\r\n",
    "test_data=pd.read_csv('test.csv',sep='\\t')\r\n",
    "\r\n",
    "print(train_data.shape)\r\n",
    "print(test_data.shape)"
   ]
  },
  {
   "cell_type": "code",
   "execution_count": 5,
   "metadata": {
    "collapsed": false
   },
   "outputs": [
    {
     "data": {
      "text/plain": [
       "\"First off, allow me to correct a common mistake that was made by more than one reviewer here: This is most certainly not the first film ever made where animated characters interact with live actors. Pete's Dragon (1977), Mary Poppins (1964) and Song of the South (1946) all predate it, and if you want a lesson in cartoon history, so does Gertie the Dinosaur (1914). But that doesn't mean Who Framed Roger Rabbit is not a landmark film. It was revolutionary for its degree of interaction between the toons and the human characters, done so perfectly that they seem completely natural at first glance, but then amaze when you take a closer look - little things like Jessica Rabbit pinching Eddie Valiant's cheek, or Roger Rabbit hiding under the water in Valiant's sink, or beneath his coat, little details that took very creative special effects to be made convincing. It's also unique and original in the fact that some of it takes place in the real world, featuring animated characters, and some in an animated world, featuring live actors; and in that manner, it predates Cool World, Space Jam and anything following.Who Framed Roger Rabbit is wonderfully funny, directed more at an adult audience than children. Bob Hoskins and Christopher Lloyd make a terrific impression in the lead roles, and manage to stay remarkably serious and convincing while conversing and interacting with entirely imaginary characters. Charles Fleischer is beyond brilliant in the voice of Roger Rabbit (as well as that of Benny the Cab) and Kathleen Turner as Jessica Rabbit is also terrific, a femme fatale so classic that it's ridiculous. The entire film excels with intelligent humor that would appeal to both children and adults, and it's a treat for animation buffs, with references to historical toons from the Foxy cartoons of the 20s, through Betty Boop, Dumbo and Bambi to Bugs Bunny and Mickey Mouse.Who Framed Roger Rabbit is one of the defining films of my childhood; I think that's true for almost anyone born in the 80s. I still have a warm place in my heart for Roger and Eddie Valiant, and a cold one for Judge Doom, who gave me nightmares for weeks after I saw it upon its initial release when I was four (he still gives me chills, by the way, when he first starts talking in his squeaky voice). If you somehow manages to avoid it, do watch it, and if you're willing, it's well worth the purchase, too.\""
      ]
     },
     "execution_count": 5,
     "metadata": {},
     "output_type": "execute_result"
    }
   ],
   "source": [
    "train_data['reviewText'][0]"
   ]
  },
  {
   "cell_type": "code",
   "execution_count": null,
   "metadata": {
    "collapsed": false
   },
   "outputs": [
    {
     "name": "stdout",
     "output_type": "stream",
     "text": [
      "<class 'pandas.core.frame.DataFrame'>\n",
      "RangeIndex: 57039 entries, 0 to 57038\n",
      "Data columns (total 7 columns):\n",
      " #   Column      Non-Null Count  Dtype  \n",
      "---  ------      --------------  -----  \n",
      " 0   reviewerID  57039 non-null  int64  \n",
      " 1   asin        57039 non-null  int64  \n",
      " 2   reviewText  57039 non-null  object \n",
      " 3   overall     57039 non-null  float64\n",
      " 4   votes_up    57039 non-null  int64  \n",
      " 5   votes_all   57039 non-null  int64  \n",
      " 6   label       57039 non-null  int64  \n",
      "dtypes: float64(1), int64(5), object(1)\n",
      "memory usage: 3.0+ MB\n"
     ]
    }
   ],
   "source": [
    "train_data.info()"
   ]
  },
  {
   "cell_type": "code",
   "execution_count": null,
   "metadata": {
    "collapsed": false
   },
   "outputs": [
    {
     "data": {
      "text/html": [
       "<div>\n",
       "<style scoped>\n",
       "    .dataframe tbody tr th:only-of-type {\n",
       "        vertical-align: middle;\n",
       "    }\n",
       "\n",
       "    .dataframe tbody tr th {\n",
       "        vertical-align: top;\n",
       "    }\n",
       "\n",
       "    .dataframe thead th {\n",
       "        text-align: right;\n",
       "    }\n",
       "</style>\n",
       "<table border=\"1\" class=\"dataframe\">\n",
       "  <thead>\n",
       "    <tr style=\"text-align: right;\">\n",
       "      <th></th>\n",
       "      <th>reviewerID</th>\n",
       "      <th>asin</th>\n",
       "      <th>overall</th>\n",
       "      <th>votes_up</th>\n",
       "      <th>votes_all</th>\n",
       "      <th>label</th>\n",
       "    </tr>\n",
       "  </thead>\n",
       "  <tbody>\n",
       "    <tr>\n",
       "      <th>count</th>\n",
       "      <td>57039.000000</td>\n",
       "      <td>57039.000000</td>\n",
       "      <td>57039.000000</td>\n",
       "      <td>57039.000000</td>\n",
       "      <td>57039.000000</td>\n",
       "      <td>57039.000000</td>\n",
       "    </tr>\n",
       "    <tr>\n",
       "      <th>mean</th>\n",
       "      <td>33359.761865</td>\n",
       "      <td>19973.170866</td>\n",
       "      <td>3.535178</td>\n",
       "      <td>12.387594</td>\n",
       "      <td>18.475850</td>\n",
       "      <td>0.226196</td>\n",
       "    </tr>\n",
       "    <tr>\n",
       "      <th>std</th>\n",
       "      <td>30016.804127</td>\n",
       "      <td>14104.410152</td>\n",
       "      <td>1.529742</td>\n",
       "      <td>45.130499</td>\n",
       "      <td>50.149683</td>\n",
       "      <td>0.418371</td>\n",
       "    </tr>\n",
       "    <tr>\n",
       "      <th>min</th>\n",
       "      <td>50.000000</td>\n",
       "      <td>0.000000</td>\n",
       "      <td>1.000000</td>\n",
       "      <td>0.000000</td>\n",
       "      <td>5.000000</td>\n",
       "      <td>0.000000</td>\n",
       "    </tr>\n",
       "    <tr>\n",
       "      <th>25%</th>\n",
       "      <td>9235.000000</td>\n",
       "      <td>8218.000000</td>\n",
       "      <td>2.000000</td>\n",
       "      <td>4.000000</td>\n",
       "      <td>6.000000</td>\n",
       "      <td>0.000000</td>\n",
       "    </tr>\n",
       "    <tr>\n",
       "      <th>50%</th>\n",
       "      <td>22589.000000</td>\n",
       "      <td>17635.000000</td>\n",
       "      <td>4.000000</td>\n",
       "      <td>6.000000</td>\n",
       "      <td>10.000000</td>\n",
       "      <td>0.000000</td>\n",
       "    </tr>\n",
       "    <tr>\n",
       "      <th>75%</th>\n",
       "      <td>53170.000000</td>\n",
       "      <td>30875.000000</td>\n",
       "      <td>5.000000</td>\n",
       "      <td>11.000000</td>\n",
       "      <td>18.000000</td>\n",
       "      <td>0.000000</td>\n",
       "    </tr>\n",
       "    <tr>\n",
       "      <th>max</th>\n",
       "      <td>123767.000000</td>\n",
       "      <td>50051.000000</td>\n",
       "      <td>5.000000</td>\n",
       "      <td>6084.000000</td>\n",
       "      <td>6510.000000</td>\n",
       "      <td>1.000000</td>\n",
       "    </tr>\n",
       "  </tbody>\n",
       "</table>\n",
       "</div>"
      ],
      "text/plain": [
       "          reviewerID          asin       overall      votes_up     votes_all  \\\n",
       "count   57039.000000  57039.000000  57039.000000  57039.000000  57039.000000   \n",
       "mean    33359.761865  19973.170866      3.535178     12.387594     18.475850   \n",
       "std     30016.804127  14104.410152      1.529742     45.130499     50.149683   \n",
       "min        50.000000      0.000000      1.000000      0.000000      5.000000   \n",
       "25%      9235.000000   8218.000000      2.000000      4.000000      6.000000   \n",
       "50%     22589.000000  17635.000000      4.000000      6.000000     10.000000   \n",
       "75%     53170.000000  30875.000000      5.000000     11.000000     18.000000   \n",
       "max    123767.000000  50051.000000      5.000000   6084.000000   6510.000000   \n",
       "\n",
       "              label  \n",
       "count  57039.000000  \n",
       "mean       0.226196  \n",
       "std        0.418371  \n",
       "min        0.000000  \n",
       "25%        0.000000  \n",
       "50%        0.000000  \n",
       "75%        0.000000  \n",
       "max        1.000000  "
      ]
     },
     "execution_count": null,
     "metadata": {},
     "output_type": "execute_result"
    }
   ],
   "source": [
    "train_data.describe()"
   ]
  },
  {
   "cell_type": "code",
   "execution_count": null,
   "metadata": {
    "collapsed": false
   },
   "outputs": [
    {
     "name": "stdout",
     "output_type": "stream",
     "text": [
      "count    57039.000000\n",
      "mean       255.126335\n",
      "std        242.025413\n",
      "min          1.000000\n",
      "25%        100.000000\n",
      "50%        187.000000\n",
      "75%        325.000000\n",
      "max       4322.000000\n",
      "Name: text_len, dtype: float64\n"
     ]
    },
    {
     "data": {
      "text/plain": [
       "Text(0.5,1,'Histogram of char count')"
      ]
     },
     "execution_count": null,
     "metadata": {},
     "output_type": "execute_result"
    },
    {
     "data": {
      "image/png": "[encoded data removed]",
      "text/plain": [
       "<Figure size 432x288 with 1 Axes>"
      ]
     },
     "metadata": {},
     "output_type": "display_data"
    }
   ],
   "source": [
    "##统计文本长度\r\n",
    "train_data['text_len'] = train_data['reviewText'].apply(lambda x: len(x.split(' ')))\r\n",
    "print(train_data['text_len'].describe())\r\n",
    "_ = plt.hist(train_data['text_len'], bins=200)\r\n",
    "plt.xlabel('Text char count')\r\n",
    "plt.title(\"Histogram of char count\")"
   ]
  },
  {
   "cell_type": "code",
   "execution_count": null,
   "metadata": {
    "collapsed": false
   },
   "outputs": [
    {
     "data": {
      "text/plain": [
       "Text(0.5,0,'category')"
      ]
     },
     "execution_count": null,
     "metadata": {},
     "output_type": "execute_result"
    },
    {
     "data": {
      "image/png": "[encoded data removed]",
      "text/plain": [
       "<Figure size 432x288 with 1 Axes>"
      ]
     },
     "metadata": {},
     "output_type": "display_data"
    }
   ],
   "source": [
    "##统计label种类\r\n",
    "train_data['label'].value_counts().plot(kind='bar')\r\n",
    "plt.title('comment class count')\r\n",
    "plt.xlabel(\"category\")"
   ]
  },
  {
   "cell_type": "code",
   "execution_count": null,
   "metadata": {
    "collapsed": false
   },
   "outputs": [
    {
     "name": "stdout",
     "output_type": "stream",
     "text": [
      "654338\n",
      "('the', 739355)\n",
      "('Ghostbreakers\"', 1)\n"
     ]
    }
   ],
   "source": [
    "##统计单词出现次数\r\n",
    "from collections import Counter\r\n",
    "all_lines = ' '.join(list(train_data['reviewText']))\r\n",
    "word_count = Counter(all_lines.split(\" \"))\r\n",
    "word_count = sorted(word_count.items(), key=lambda d:d[1], reverse = True)\r\n",
    "print(len(word_count))\r\n",
    "print(word_count[0])\r\n",
    "print(word_count[-1])"
   ]
  },
  {
   "cell_type": "code",
   "execution_count": null,
   "metadata": {
    "collapsed": false
   },
   "outputs": [
    {
     "data": {
      "text/plain": [
       "[('the', 739355),\n",
       " ('and', 391103),\n",
       " ('of', 361795),\n",
       " ('a', 354147),\n",
       " ('to', 322494),\n",
       " ('is', 256211),\n",
       " ('', 250515),\n",
       " ('in', 206754),\n",
       " ('I', 164299),\n",
       " ('that', 157172),\n",
       " ('this', 140488),\n",
       " ('it', 122320),\n",
       " ('for', 108880),\n",
       " ('with', 106773),\n",
       " ('as', 104036),\n",
       " ('was', 102829),\n",
       " ('on', 85198),\n",
       " ('The', 84878),\n",
       " ('are', 77620),\n",
       " ('but', 77299),\n",
       " ('you', 68734),\n",
       " ('have', 67179),\n",
       " ('not', 66506),\n",
       " ('his', 64217),\n",
       " ('be', 61644),\n",
       " ('movie', 60203),\n",
       " ('film', 51392),\n",
       " ('by', 51001),\n",
       " ('one', 49246),\n",
       " ('from', 49159),\n",
       " ('an', 48203),\n",
       " ('at', 47918),\n",
       " ('he', 46768),\n",
       " ('all', 45116),\n",
       " ('who', 43505),\n",
       " ('they', 43260),\n",
       " ('like', 41186),\n",
       " ('has', 40776),\n",
       " ('or', 39186),\n",
       " ('about', 37970),\n",
       " ('so', 37790),\n",
       " ('just', 36667),\n",
       " ('her', 36303),\n",
       " ('more', 34608),\n",
       " ('out', 32400),\n",
       " ('some', 31981),\n",
       " ('This', 30052),\n",
       " ('would', 28890),\n",
       " ('their', 28851),\n",
       " ('what', 28793),\n",
       " ('very', 28716),\n",
       " ('will', 27770),\n",
       " ('when', 27280),\n",
       " ('my', 26741),\n",
       " ('if', 26402),\n",
       " ('up', 25998),\n",
       " ('than', 25700),\n",
       " ('It', 25334),\n",
       " ('which', 25227),\n",
       " ('can', 25118),\n",
       " ('were', 25077),\n",
       " ('good', 25036),\n",
       " ('only', 24941),\n",
       " ('-', 24693),\n",
       " ('had', 24285),\n",
       " ('see', 23794),\n",
       " ('really', 23682),\n",
       " (\"it's\", 23087),\n",
       " ('been', 22988),\n",
       " ('no', 22571),\n",
       " ('there', 22430),\n",
       " ('even', 22287),\n",
       " ('get', 22175),\n",
       " ('great', 22150),\n",
       " ('into', 21841),\n",
       " ('she', 21795),\n",
       " ('much', 21563),\n",
       " ('first', 20927),\n",
       " ('other', 20706),\n",
       " ('we', 19450),\n",
       " ('most', 19364),\n",
       " ('also', 18997),\n",
       " ('because', 18757),\n",
       " ('do', 18656),\n",
       " ('story', 18440),\n",
       " ('its', 17895),\n",
       " ('time', 17803),\n",
       " ('DVD', 17680),\n",
       " ('how', 17614),\n",
       " ('me', 17075),\n",
       " (\"don't\", 16292),\n",
       " ('people', 16287),\n",
       " ('many', 16141),\n",
       " ('any', 15981),\n",
       " ('two', 15776),\n",
       " ('make', 15554),\n",
       " ('could', 15544),\n",
       " ('your', 15000),\n",
       " ('these', 14928),\n",
       " ('think', 14751)]"
      ]
     },
     "execution_count": null,
     "metadata": {},
     "output_type": "execute_result"
    }
   ],
   "source": [
    "word_count[0:100]"
   ]
  },
  {
   "cell_type": "code",
   "execution_count": null,
   "metadata": {
    "collapsed": false
   },
   "outputs": [],
   "source": [
    "stopwords={}.fromkeys([line.rstrip() for line in open('./stopwords.txt',encoding='utf-8')])\r\n",
    "eng_stopwords=set(stopwords)\r\n",
    "def clean_text(text):\r\n",
    "    text=re.sub(r'[^a-zA-Z]',' ',text)\r\n",
    "    words=text.lower().split()\r\n",
    "    words=[w for w in words if w not in eng_stopwords]\r\n",
    "    return ' '.join(words)"
   ]
  },
  {
   "cell_type": "code",
   "execution_count": null,
   "metadata": {
    "collapsed": false
   },
   "outputs": [],
   "source": [
    "# TF-IDF \r\n",
    "import pandas as pd\r\n",
    "from sklearn.feature_extraction.text import TfidfVectorizer\r\n",
    "from sklearn.linear_model import LogisticRegression\r\n",
    "from sklearn.metrics import f1_score\r\n",
    "from sklearn.naive_bayes import GaussianNB\r\n",
    "from sklearn.neural_network import MLPClassifier\r\n",
    "from sklearn.ensemble import RandomForestClassifier\r\n",
    "train_df = pd.read_csv('ctrain.csv')\r\n",
    "test_data=pd.read_csv('ctest.csv')\r\n",
    "train_df=train_df.dropna()\r\n",
    "result=test_data['Id']\r\n",
    "train_text = train_df['reviewText']\r\n",
    "test_text = test_data['reviewText']\r\n",
    "all_text = pd.concat([train_text, test_text])\r\n",
    "tfidf = TfidfVectorizer(ngram_range=(1,10), max_features=1000000)\r\n",
    "tfidf.fit(train_text) \r\n",
    "train_test = tfidf.transform(train_df['reviewText'])\r\n",
    "test_data=tfidf.transform(test_data['reviewText'])\r\n",
    "#clf=RandomForestClassifier()\r\n",
    "clf = LogisticRegression()\r\n",
    "clf.fit(train_test.toarray(), train_df['label'].values)\r\n",
    "val_pred = clf.predict(test_data)\r\n",
    "prob=clf.predict_proba(test_data)[:,1]\r\n",
    "prob=pd.DataFrame(prob,columns=['Predicted'])\r\n",
    "res = pd.concat([result,prob],axis=1)\r\n",
    "res.to_csv('result.csv')"
   ]
  },
  {
   "cell_type": "code",
   "execution_count": null,
   "metadata": {
    "collapsed": false
   },
   "outputs": [],
   "source": [
    "train_df = pd.read_csv('ctrain.csv')"
   ]
  },
  {
   "cell_type": "code",
   "execution_count": null,
   "metadata": {
    "collapsed": false
   },
   "outputs": [],
   "source": [
    "train_df=train_df[['reviewText','label']]"
   ]
  },
  {
   "cell_type": "code",
   "execution_count": null,
   "metadata": {
    "collapsed": false
   },
   "outputs": [
    {
     "name": "stdout",
     "output_type": "stream",
     "text": [
      "train accuracy is  0.7753670830593907\n",
      "test accuracy is  0.767531556802244\n",
      "classify error rate is  0.22463291694060922\n",
      "classify error rate is  0.32384269740379706\n",
      "train accuracy is  0.6884944115713346\n",
      "test accuracy is  0.6846949509116409\n"
     ]
    }
   ],
   "source": [
    "import numpy as np\r\n",
    "import pandas as pd\r\n",
    "import matplotlib.pyplot as plt\r\n",
    "train=pd.read_csv('ctrain.csv')\r\n",
    "test=pd.read_csv('ctest.csv')\r\n",
    "from sklearn.model_selection import train_test_split\r\n",
    "train=train.dropna()\r\n",
    "x_train,x_test,y_train,y_test=train_test_split(train['reviewText'],train['label'],test_size=0.2)\r\n",
    "from sklearn.feature_extraction.text import TfidfVectorizer\r\n",
    "train_text = train['reviewText']\r\n",
    "test_text = test['reviewText']\r\n",
    "tfidf = TfidfVectorizer(ngram_range=(1,3), max_features=3000)\r\n",
    "tfidf.fit(train_text) \r\n",
    "x_train = tfidf.transform(x_train)\r\n",
    "x_test=tfidf.transform(x_test)\r\n",
    "# -*-coding:utf-8 -*-\r\n",
    "import numpy as np\r\n",
    "import pandas as pd\r\n",
    "from sklearn.ensemble import AdaBoostClassifier\r\n",
    "from sklearn.linear_model import LogisticRegression\r\n",
    "from sklearn.model_selection import train_test_split\r\n",
    "class AdaBoost:\r\n",
    "    # 基分类器默认为多分类的逻辑回归\r\n",
    "    def __init__(self,m,\\\r\n",
    "        clf=LogisticRegression()):\r\n",
    "        # 基分类器数量\r\n",
    "        self.m = m\r\n",
    "        # 基分类器模型\r\n",
    "        self.clf = clf\r\n",
    "        # 缓存基分类器和权重参数\r\n",
    "        self.clf_arr = []\r\n",
    "        self.alpha_arr = []\r\n",
    "\r\n",
    "    # 指定训练数据集、基分类器、迭代次数\r\n",
    "    def fit(self,X,Y):\r\n",
    "        num = X.shape[0]\r\n",
    "        # 初始化样本权重\r\n",
    "        W = np.ones(num) / num\r\n",
    " \r\n",
    "        # 迭代\r\n",
    "        for i in range(self.m):\r\n",
    "            # 基分类器预测\r\n",
    "            self.clf.fit(X, Y, sample_weight=W)\r\n",
    "            self.clf_arr.extend([self.clf])\r\n",
    "            Y_pred = self.clf.predict(X)\r\n",
    " \r\n",
    "            # 分类误差率\r\n",
    "            indic_arr = [1 if Y_pred[j] != Y[j] else 0 for j in range(num)]\r\n",
    "            err = np.dot(W, np.array(indic_arr))\r\n",
    "            print(\"classify error rate is \",err)\r\n",
    "\r\n",
    "            if err>0.5:\r\n",
    "              self.m=i-1\r\n",
    "              return \r\n",
    "            # 分类器系数\r\n",
    "            alpha = err/(1-err)\r\n",
    "            self.alpha_arr.extend([1-alpha])\r\n",
    " \r\n",
    "            # 更新权重\r\n",
    "            temp = W * (alpha**[1-i for i in indic_arr])\r\n",
    "            W = temp / np.sum(temp)\r\n",
    "        return self\r\n",
    "    def predict(self, X,Y):\r\n",
    "        num = X.shape[0]\r\n",
    "        mulit_idx_pred = []\r\n",
    "        mulit_Y_pred = []\r\n",
    "        for i in range(self.m):\r\n",
    "            Y_pred = self.clf_arr[i].predict(X)\r\n",
    "            mulit_Y_pred.append(Y_pred.tolist())\r\n",
    "            indic_arr = [1 if Y_pred[i] == Y[i] else 0 for i in range(num)]\r\n",
    "            temp = [np.log(self.alpha_arr[i])*k for k in indic_arr]\r\n",
    "            mulit_idx_pred.append(temp)\r\n",
    "        # 保存各个基分类器预测的最大索引\r\n",
    "        max_idx_pred = np.array(mulit_idx_pred).argmax(axis=0)\r\n",
    "        # 保存各个基分类器的预测值\r\n",
    "        mulit_Y_pred = np.array(mulit_Y_pred).T\r\n",
    "        # 获取最大索引对应的预测标签\r\n",
    "        result = np.array([x[max_idx_pred[i]] for i,x in enumerate(mulit_Y_pred)],dtype=np.float64)\r\n",
    "        return result\r\n",
    "    def score(self,X,Y):\r\n",
    "        Y_pred = self.predict(X,Y)\r\n",
    "        count = 0.\r\n",
    "        for i in range(len(Y)):\r\n",
    "            if Y_pred[i]==Y[i]:\r\n",
    "                count +=1\r\n",
    "        return count/np.float(len(Y))\r\n",
    "if __name__==\"__main__\":\r\n",
    "    clf = LogisticRegression()\r\n",
    "    num = x_train.shape[0]\r\n",
    "    # 初始化样本权重\r\n",
    "    y_train=list(y_train)\r\n",
    "    y_test=list(y_test)\r\n",
    "    W = np.ones(num) / num\r\n",
    "    clf.fit(x_train,y_train,sample_weight=W)\r\n",
    "    print(\"train accuracy is \",clf.score(x_train,y_train))\r\n",
    "    print(\"test accuracy is \",clf.score(x_test,y_test))\r\n",
    "    adaboost = AdaBoost(2)\r\n",
    "    adaboost.fit(x_train,y_train)\r\n",
    "    print(\"train accuracy is \",adaboost.score(x_train,y_train))\r\n",
    "    print(\"test accuracy is \",adaboost.score(x_test,y_test))"
   ]
  },
  {
   "cell_type": "code",
   "execution_count": 7,
   "metadata": {
    "collapsed": false
   },
   "outputs": [
    {
     "ename": "ValueError",
     "evalue": "KNeighborsClassifier doesn't support sample_weight.",
     "output_type": "error",
     "traceback": [
      "\u001b[0;31m---------------------------------------------------------------------------\u001b[0m",
      "\u001b[0;31mValueError\u001b[0m                                Traceback (most recent call last)",
      "\u001b[0;32m<ipython-input-7-927d78654dce>\u001b[0m in \u001b[0;36m<module>\u001b[0;34m\u001b[0m\n\u001b[1;32m     23\u001b[0m                        n_estimators=10, random_state=0)\n\u001b[1;32m     24\u001b[0m \u001b[0;31m#model = AdaBoostClassifier(GaussianNB(),n_estimators=200, learning_rate=0.8)\u001b[0m\u001b[0;34m\u001b[0m\u001b[0;34m\u001b[0m\u001b[0;34m\u001b[0m\u001b[0m\n\u001b[0;32m---> 25\u001b[0;31m \u001b[0mmodel\u001b[0m\u001b[0;34m.\u001b[0m\u001b[0mfit\u001b[0m\u001b[0;34m(\u001b[0m\u001b[0mx_train\u001b[0m\u001b[0;34m,\u001b[0m \u001b[0my_train\u001b[0m\u001b[0;34m)\u001b[0m\u001b[0;34m\u001b[0m\u001b[0;34m\u001b[0m\u001b[0m\n\u001b[0m\u001b[1;32m     26\u001b[0m \u001b[0mmodel\u001b[0m\u001b[0;34m.\u001b[0m\u001b[0mscore\u001b[0m\u001b[0;34m(\u001b[0m\u001b[0mx_train\u001b[0m\u001b[0;34m,\u001b[0m\u001b[0my_train\u001b[0m\u001b[0;34m)\u001b[0m\u001b[0;34m\u001b[0m\u001b[0;34m\u001b[0m\u001b[0m\n",
      "\u001b[0;32m/opt/conda/envs/python35-paddle120-env/lib/python3.7/site-packages/sklearn/ensemble/_weight_boosting.py\u001b[0m in \u001b[0;36mfit\u001b[0;34m(self, X, y, sample_weight)\u001b[0m\n\u001b[1;32m    436\u001b[0m \u001b[0;34m\u001b[0m\u001b[0m\n\u001b[1;32m    437\u001b[0m         \u001b[0;31m# Fit\u001b[0m\u001b[0;34m\u001b[0m\u001b[0;34m\u001b[0m\u001b[0;34m\u001b[0m\u001b[0m\n\u001b[0;32m--> 438\u001b[0;31m         \u001b[0;32mreturn\u001b[0m \u001b[0msuper\u001b[0m\u001b[0;34m(\u001b[0m\u001b[0;34m)\u001b[0m\u001b[0;34m.\u001b[0m\u001b[0mfit\u001b[0m\u001b[0;34m(\u001b[0m\u001b[0mX\u001b[0m\u001b[0;34m,\u001b[0m \u001b[0my\u001b[0m\u001b[0;34m,\u001b[0m \u001b[0msample_weight\u001b[0m\u001b[0;34m)\u001b[0m\u001b[0;34m\u001b[0m\u001b[0;34m\u001b[0m\u001b[0m\n\u001b[0m\u001b[1;32m    439\u001b[0m \u001b[0;34m\u001b[0m\u001b[0m\n\u001b[1;32m    440\u001b[0m     \u001b[0;32mdef\u001b[0m \u001b[0m_validate_estimator\u001b[0m\u001b[0;34m(\u001b[0m\u001b[0mself\u001b[0m\u001b[0;34m)\u001b[0m\u001b[0;34m:\u001b[0m\u001b[0;34m\u001b[0m\u001b[0;34m\u001b[0m\u001b[0m\n",
      "\u001b[0;32m/opt/conda/envs/python35-paddle120-env/lib/python3.7/site-packages/sklearn/ensemble/_weight_boosting.py\u001b[0m in \u001b[0;36mfit\u001b[0;34m(self, X, y, sample_weight)\u001b[0m\n\u001b[1;32m    125\u001b[0m \u001b[0;34m\u001b[0m\u001b[0m\n\u001b[1;32m    126\u001b[0m         \u001b[0;31m# Check parameters\u001b[0m\u001b[0;34m\u001b[0m\u001b[0;34m\u001b[0m\u001b[0;34m\u001b[0m\u001b[0m\n\u001b[0;32m--> 127\u001b[0;31m         \u001b[0mself\u001b[0m\u001b[0;34m.\u001b[0m\u001b[0m_validate_estimator\u001b[0m\u001b[0;34m(\u001b[0m\u001b[0;34m)\u001b[0m\u001b[0;34m\u001b[0m\u001b[0;34m\u001b[0m\u001b[0m\n\u001b[0m\u001b[1;32m    128\u001b[0m \u001b[0;34m\u001b[0m\u001b[0m\n\u001b[1;32m    129\u001b[0m         \u001b[0;31m# Clear any previous fit results\u001b[0m\u001b[0;34m\u001b[0m\u001b[0;34m\u001b[0m\u001b[0;34m\u001b[0m\u001b[0m\n",
      "\u001b[0;32m/opt/conda/envs/python35-paddle120-env/lib/python3.7/site-packages/sklearn/ensemble/_weight_boosting.py\u001b[0m in \u001b[0;36m_validate_estimator\u001b[0;34m(self)\u001b[0m\n\u001b[1;32m    454\u001b[0m         \u001b[0;32mif\u001b[0m \u001b[0;32mnot\u001b[0m \u001b[0mhas_fit_parameter\u001b[0m\u001b[0;34m(\u001b[0m\u001b[0mself\u001b[0m\u001b[0;34m.\u001b[0m\u001b[0mbase_estimator_\u001b[0m\u001b[0;34m,\u001b[0m \u001b[0;34m\"sample_weight\"\u001b[0m\u001b[0;34m)\u001b[0m\u001b[0;34m:\u001b[0m\u001b[0;34m\u001b[0m\u001b[0;34m\u001b[0m\u001b[0m\n\u001b[1;32m    455\u001b[0m             raise ValueError(\"%s doesn't support sample_weight.\"\n\u001b[0;32m--> 456\u001b[0;31m                              % self.base_estimator_.__class__.__name__)\n\u001b[0m\u001b[1;32m    457\u001b[0m \u001b[0;34m\u001b[0m\u001b[0m\n\u001b[1;32m    458\u001b[0m     \u001b[0;32mdef\u001b[0m \u001b[0m_boost\u001b[0m\u001b[0;34m(\u001b[0m\u001b[0mself\u001b[0m\u001b[0;34m,\u001b[0m \u001b[0miboost\u001b[0m\u001b[0;34m,\u001b[0m \u001b[0mX\u001b[0m\u001b[0;34m,\u001b[0m \u001b[0my\u001b[0m\u001b[0;34m,\u001b[0m \u001b[0msample_weight\u001b[0m\u001b[0;34m,\u001b[0m \u001b[0mrandom_state\u001b[0m\u001b[0;34m)\u001b[0m\u001b[0;34m:\u001b[0m\u001b[0;34m\u001b[0m\u001b[0;34m\u001b[0m\u001b[0m\n",
      "\u001b[0;31mValueError\u001b[0m: KNeighborsClassifier doesn't support sample_weight."
     ]
    }
   ],
   "source": [
    "import numpy as np\r\n",
    "import pandas as pd\r\n",
    "import matplotlib.pyplot as plt\r\n",
    "from sklearn.tree import DecisionTreeClassifier\r\n",
    "from sklearn.neighbors import KNeighborsClassifier\r\n",
    "from sklearn.naive_bayes import GaussianNB\r\n",
    "from sklearn.ensemble import BaggingClassifier\r\n",
    "from sklearn.svm import LinearSVC\r\n",
    "train=pd.read_csv('ctrain.csv')\r\n",
    "test=pd.read_csv('ctest.csv')\r\n",
    "from sklearn.model_selection import train_test_split\r\n",
    "train=train.dropna()\r\n",
    "x_train,x_test,y_train,y_test=train_test_split(train['reviewText'],train['label'],test_size=0.2)\r\n",
    "from sklearn.feature_extraction.text import TfidfVectorizer\r\n",
    "train_text = train['reviewText']\r\n",
    "test_text = test['reviewText']\r\n",
    "tfidf = TfidfVectorizer(ngram_range=(1,3), max_features=3000)\r\n",
    "tfidf.fit(train_text) \r\n",
    "x_train = tfidf.transform(x_train)\r\n",
    "x_test=tfidf.transform(x_test)\r\n",
    "from sklearn.ensemble import AdaBoostClassifier\r\n",
    "model = AdaBoostClassifier(base_estimator=KNeighborsClassifier(),\r\n",
    "                       n_estimators=10, random_state=0)\r\n",
    "#model = AdaBoostClassifier(GaussianNB(),n_estimators=200, learning_rate=0.8)\r\n",
    "model.fit(x_train, y_train)\r\n",
    "model.score(x_train,y_train)"
   ]
  },
  {
   "cell_type": "code",
   "execution_count": 9,
   "metadata": {
    "collapsed": false
   },
   "outputs": [
    {
     "name": "stdout",
     "output_type": "stream",
     "text": [
      "Looking in indexes: https://mirror.baidu.com/pypi/simple/\n",
      "Collecting pytest\n",
      "\u001b[?25l  Downloading https://mirror.baidu.com/pypi/packages/76/4d/9c00146923da9f1cabd1878209d71b1380d537ec331a1a613e8f4b9d7985/pytest-6.2.3-py3-none-any.whl (280kB)\n",
      "\u001b[K     |████████████████████████████████| 286kB 16.8MB/s eta 0:00:01\n",
      "\u001b[?25hRequirement already satisfied: toml in /opt/conda/envs/python35-paddle120-env/lib/python3.7/site-packages (from pytest) (0.10.0)\n",
      "Requirement already satisfied: attrs>=19.2.0 in /opt/conda/envs/python35-paddle120-env/lib/python3.7/site-packages (from pytest) (19.2.0)\n",
      "Requirement already satisfied: packaging in /opt/conda/envs/python35-paddle120-env/lib/python3.7/site-packages (from pytest) (20.9)\n",
      "Collecting iniconfig (from pytest)\n",
      "  Downloading https://mirror.baidu.com/pypi/packages/9b/dd/b3c12c6d707058fa947864b67f0c4e0c39ef8610988d7baea9578f3c48f3/iniconfig-1.1.1-py2.py3-none-any.whl\n",
      "Requirement already satisfied: pluggy<1.0.0a1,>=0.12 in /opt/conda/envs/python35-paddle120-env/lib/python3.7/site-packages (from pytest) (0.13.1)\n",
      "Collecting py>=1.8.2 (from pytest)\n",
      "\u001b[?25l  Downloading https://mirror.baidu.com/pypi/packages/67/32/6fe01cfc3d1a27c92fdbcdfc3f67856da8cbadf0dd9f2e18055202b2dc62/py-1.10.0-py2.py3-none-any.whl (97kB)\n",
      "\u001b[K     |████████████████████████████████| 102kB 32.6MB/s ta 0:00:01\n",
      "\u001b[?25hRequirement already satisfied: importlib-metadata>=0.12; python_version < \"3.8\" in /opt/conda/envs/python35-paddle120-env/lib/python3.7/site-packages (from pytest) (0.23)\n",
      "Requirement already satisfied: pyparsing>=2.0.2 in /opt/conda/envs/python35-paddle120-env/lib/python3.7/site-packages (from packaging->pytest) (2.4.2)\n",
      "Requirement already satisfied: zipp>=0.5 in /opt/conda/envs/python35-paddle120-env/lib/python3.7/site-packages (from importlib-metadata>=0.12; python_version < \"3.8\"->pytest) (0.6.0)\n",
      "Requirement already satisfied: more-itertools in /opt/conda/envs/python35-paddle120-env/lib/python3.7/site-packages (from zipp>=0.5->importlib-metadata>=0.12; python_version < \"3.8\"->pytest) (7.2.0)\n",
      "Installing collected packages: iniconfig, py, pytest\n",
      "Successfully installed iniconfig-1.1.1 py-1.10.0 pytest-6.2.3\n"
     ]
    }
   ],
   "source": [
    "!pip install pytest"
   ]
  },
  {
   "cell_type": "code",
   "execution_count": 10,
   "metadata": {
    "collapsed": false
   },
   "outputs": [
    {
     "name": "stdout",
     "output_type": "stream",
     "text": [
      "AdaBoostClassifier\n",
      "BaggingClassifier\n",
      "BernoulliNB\n",
      "CalibratedClassifierCV\n",
      "CategoricalNB\n",
      "ComplementNB\n",
      "DecisionTreeClassifier\n",
      "DummyClassifier\n",
      "ExtraTreeClassifier\n",
      "ExtraTreesClassifier\n",
      "GaussianNB\n",
      "GradientBoostingClassifier\n",
      "LinearSVC\n",
      "LogisticRegression\n",
      "LogisticRegressionCV\n",
      "MultiOutputClassifier\n",
      "MultinomialNB\n",
      "NuSVC\n",
      "Perceptron\n",
      "RandomForestClassifier\n",
      "RidgeClassifier\n",
      "RidgeClassifierCV\n",
      "SGDClassifier\n",
      "SVC\n",
      "StackingClassifier\n",
      "VotingClassifier\n"
     ]
    }
   ],
   "source": [
    "import inspect \r\n",
    "from sklearn.utils.testing import all_estimators \r\n",
    "for name, clf in all_estimators(type_filter='classifier'): \r\n",
    "    if 'sample_weight' in inspect.getargspec(clf.fit)[0]: \r\n",
    "        print(name) "
   ]
  },
  {
   "cell_type": "code",
   "execution_count": 6,
   "metadata": {
    "collapsed": false
   },
   "outputs": [
    {
     "data": {
      "image/png": "[encoded data removed]",
      "text/plain": [
       "<Figure size 432x432 with 1 Axes>"
      ]
     },
     "metadata": {},
     "output_type": "display_data"
    }
   ],
   "source": [
    "from sklearn import metrics\r\n",
    "import pylab as plt\r\n",
    "import warnings;\r\n",
    "warnings.filterwarnings('ignore')\r\n",
    "pred = model.predict_proba(x_test)[:,1]\r\n",
    "#############画图部分\r\n",
    "fpr, tpr, threshold = metrics.roc_curve(y_test, pred)\r\n",
    "roc_auc = metrics.auc(fpr, tpr)\r\n",
    "plt.figure(figsize=(6,6))\r\n",
    "plt.title('Validation ROC')\r\n",
    "plt.plot(fpr, tpr, 'b', label = 'Val AUC = %0.3f' % roc_auc)\r\n",
    "plt.legend(loc = 'lower right')\r\n",
    "plt.plot([0, 1], [0, 1],'r--')\r\n",
    "plt.xlim([0, 1])\r\n",
    "plt.ylim([0, 1])\r\n",
    "plt.ylabel('True Positive Rate')\r\n",
    "plt.xlabel('False Positive Rate')\r\n",
    "plt.show()"
   ]
  },
  {
   "cell_type": "code",
   "execution_count": null,
   "metadata": {
    "collapsed": false
   },
   "outputs": [],
   "source": [
    "import numpy as np\r\n",
    "import pandas as pd\r\n",
    "import matplotlib.pyplot as plt\r\n",
    "import random\r\n",
    "train=pd.read_csv('ctrain.csv')\r\n",
    "test=pd.read_csv('ctest.csv')\r\n",
    "from sklearn.model_selection import train_test_split\r\n",
    "train=train.dropna()\r\n",
    "from sklearn.tree import DecisionTreeClassifier\r\n",
    "\r\n",
    "from sklearn.feature_extraction.text import TfidfVectorizer\r\n",
    "train_text = train['reviewText']\r\n",
    "#test_text = test['reviewText']\r\n",
    "tfidf = TfidfVectorizer(ngram_range=(1,3), max_features=3000)\r\n",
    "tfidf.fit(train_text) \r\n",
    "m=list()\r\n",
    "term=list()\r\n",
    "result=list()\r\n",
    "class Bagging:\r\n",
    "    def __init__(self,n_estimators,estimator,number):\r\n",
    "        self.estimator = estimator\r\n",
    "        self.n_estimators = n_estimators\r\n",
    "        self.number=number\r\n",
    "        self.test_data=list()\r\n",
    "\r\n",
    "    def RepetitionRandomSampling(self,data,number):\r\n",
    "        print(len(data))   \r\n",
    "        data = np.array(data)\r\n",
    "        sample=[]\r\n",
    "        for i in range(int(self.number)):\r\n",
    "             sample.append(data[random.randint(0,len(data)-1)])\r\n",
    "        return sample\r\n",
    "    def fits(self,data):\r\n",
    "        x_train,x_test,y_train,y_test=train_test_split(data['reviewText'],data['label'],test_size=0.2)\r\n",
    "        test = tfidf.transform(x_test)\r\n",
    "        test.toarray()\r\n",
    "        self.test_data=np.array(y_test)\r\n",
    "        print(\"y_test[0]:\")\r\n",
    "        print(self.test_data[0])\r\n",
    "        print(self.test_data)\r\n",
    "        for i in range (self.n_estimators):\r\n",
    "            train_data=data.sample(frac=0.1,replace=True,axis=0) \r\n",
    "            #train_data=self.RepetitionRandomSampling(data,self.number)\r\n",
    "            train= tfidf.transform(train_data['reviewText']) \r\n",
    "            train.toarray()\r\n",
    "            clf=self.estimator\r\n",
    "            clf.fit(train,train_data['label'])\r\n",
    "            m.append(clf.predict(test))\r\n",
    "        return m\r\n",
    "    def Score(self):\r\n",
    "        global result\r\n",
    "        term = np.transpose(m)\r\n",
    "        #print(len(term))\r\n",
    "        for i in range (len(term)):\r\n",
    "            if(term[i].mean()>=0.5):\r\n",
    "                result.append(1)\r\n",
    "            if(term[i].mean()<0.5):\r\n",
    "                result.append(0)\r\n",
    "        result=np.array(result)\r\n",
    "        count=0\r\n",
    "        for i in range(len(term)):\r\n",
    "            if self.test_data[i]==result[i]:\r\n",
    "                count +=1 \r\n",
    "        print(count/np.float(len(term)))\r\n",
    "        return count/np.float(len(term))\r\n",
    "if __name__==\"__main__\":\r\n",
    "    bagging=Bagging(3,DecisionTreeClassifier(),1000)\r\n",
    "    bagging.fits(train)\r\n",
    "    bagging.Score()\r\n"
   ]
  }
 ],
 "metadata": {
  "kernelspec": {
   "display_name": "PaddlePaddle 1.8.4 (Python 3.5)",
   "language": "python",
   "name": "py35-paddle1.2.0"
  },
  "language_info": {
   "codemirror_mode": {
    "name": "ipython",
    "version": 3
   },
   "file_extension": ".py",
   "mimetype": "text/x-python",
   "name": "python",
   "nbconvert_exporter": "python",
   "pygments_lexer": "ipython3",
   "version": "3.7.4"
  }
 },
 "nbformat": 4,
 "nbformat_minor": 1
}
